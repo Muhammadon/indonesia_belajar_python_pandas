{
 "cells": [
  {
   "cell_type": "markdown",
   "metadata": {},
   "source": [
    "# Pandas\n",
    "### Python Pandas: Tips & Tricks"
   ]
  },
  {
   "cell_type": "markdown",
   "metadata": {},
   "source": [
    "### #7: Menghapus Missing Values pada Pandas Data Frame"
   ]
  },
  {
   "cell_type": "markdown",
   "metadata": {},
   "source": [
    "### Importing Modules"
   ]
  },
  {
   "cell_type": "code",
   "execution_count": 4,
   "metadata": {},
   "outputs": [],
   "source": [
    "import pandas as pd\n",
    "import numpy as np"
   ]
  },
  {
   "cell_type": "markdown",
   "metadata": {},
   "source": [
    "### Persiapan Data Frame"
   ]
  },
  {
   "cell_type": "code",
   "execution_count": 20,
   "metadata": {},
   "outputs": [
    {
     "data": {
      "text/html": [
       "<div>\n",
       "<style scoped>\n",
       "    .dataframe tbody tr th:only-of-type {\n",
       "        vertical-align: middle;\n",
       "    }\n",
       "\n",
       "    .dataframe tbody tr th {\n",
       "        vertical-align: top;\n",
       "    }\n",
       "\n",
       "    .dataframe thead th {\n",
       "        text-align: right;\n",
       "    }\n",
       "</style>\n",
       "<table border=\"1\" class=\"dataframe\">\n",
       "  <thead>\n",
       "    <tr style=\"text-align: right;\">\n",
       "      <th></th>\n",
       "      <th>Z</th>\n",
       "      <th>A</th>\n",
       "      <th>B</th>\n",
       "      <th>C</th>\n",
       "      <th>D</th>\n",
       "    </tr>\n",
       "  </thead>\n",
       "  <tbody>\n",
       "    <tr>\n",
       "      <th>0</th>\n",
       "      <td>098uio</td>\n",
       "      <td>-1.48767</td>\n",
       "      <td>-0.28765</td>\n",
       "      <td>1.28765</td>\n",
       "      <td>-1.578900</td>\n",
       "    </tr>\n",
       "    <tr>\n",
       "      <th>1</th>\n",
       "      <td>hjk876</td>\n",
       "      <td>NaN</td>\n",
       "      <td>NaN</td>\n",
       "      <td>-1.48765</td>\n",
       "      <td>-0.976540</td>\n",
       "    </tr>\n",
       "    <tr>\n",
       "      <th>2</th>\n",
       "      <td>987bhy</td>\n",
       "      <td>0.42679</td>\n",
       "      <td>1.07634</td>\n",
       "      <td>-1.39876</td>\n",
       "      <td>0.026789</td>\n",
       "    </tr>\n",
       "    <tr>\n",
       "      <th>3</th>\n",
       "      <td>457gbv</td>\n",
       "      <td>NaN</td>\n",
       "      <td>1.69873</td>\n",
       "      <td>0.86543</td>\n",
       "      <td>NaN</td>\n",
       "    </tr>\n",
       "    <tr>\n",
       "      <th>4</th>\n",
       "      <td>986tgh</td>\n",
       "      <td>-1.03785</td>\n",
       "      <td>-0.68543</td>\n",
       "      <td>-0.07654</td>\n",
       "      <td>0.199990</td>\n",
       "    </tr>\n",
       "  </tbody>\n",
       "</table>\n",
       "</div>"
      ],
      "text/plain": [
       "        Z        A        B        C         D\n",
       "0  098uio -1.48767 -0.28765  1.28765 -1.578900\n",
       "1  hjk876      NaN      NaN -1.48765 -0.976540\n",
       "2  987bhy  0.42679  1.07634 -1.39876  0.026789\n",
       "3  457gbv      NaN  1.69873  0.86543       NaN\n",
       "4  986tgh -1.03785 -0.68543 -0.07654  0.199990"
      ]
     },
     "execution_count": 20,
     "metadata": {},
     "output_type": "execute_result"
    }
   ],
   "source": [
    "df = pd.DataFrame({'Z': ['098uio', 'hjk876', '987bhy', '457gbv', '986tgh', '098uio', 'hjk876', '987bhy', '457gbv', '986tgh'],\n",
    "                   'A': [-1.48767, np.nan, 0.42679, np.nan, -1.03785, 1.28765, -1.48765, -1.39876, 0.86543, -0.07654],\n",
    "                   'B': [-0.28765, np.nan, 1.07634, 1.69873, -0.68543, 1.28765, -1.48765, -1.39876, 0.86543, -0.07654],\n",
    "                   'C': [1.28765, -1.48765, -1.39876, 0.86543, -0.07654, 1.28765, -1.48765, -1.39876, 0.86543, -0.07654],\n",
    "                   'D': [-1.57890, -0.97654, 0.026789, np.nan, 0.19999, 1.28765, -1.48765, -1.39876, 0.86543, -0.07654]})\n",
    "df.head()"
   ]
  },
  {
   "cell_type": "code",
   "execution_count": 21,
   "metadata": {},
   "outputs": [],
   "source": [
    "df_backup = df.copy(deep=True)"
   ]
  },
  {
   "cell_type": "markdown",
   "metadata": {},
   "source": [
    "### Menghapus (drop) setiap kolom yang mengandung missing values"
   ]
  },
  {
   "cell_type": "code",
   "execution_count": 22,
   "metadata": {},
   "outputs": [
    {
     "data": {
      "text/html": [
       "<div>\n",
       "<style scoped>\n",
       "    .dataframe tbody tr th:only-of-type {\n",
       "        vertical-align: middle;\n",
       "    }\n",
       "\n",
       "    .dataframe tbody tr th {\n",
       "        vertical-align: top;\n",
       "    }\n",
       "\n",
       "    .dataframe thead th {\n",
       "        text-align: right;\n",
       "    }\n",
       "</style>\n",
       "<table border=\"1\" class=\"dataframe\">\n",
       "  <thead>\n",
       "    <tr style=\"text-align: right;\">\n",
       "      <th></th>\n",
       "      <th>Z</th>\n",
       "      <th>C</th>\n",
       "    </tr>\n",
       "  </thead>\n",
       "  <tbody>\n",
       "    <tr>\n",
       "      <th>0</th>\n",
       "      <td>098uio</td>\n",
       "      <td>1.28765</td>\n",
       "    </tr>\n",
       "    <tr>\n",
       "      <th>1</th>\n",
       "      <td>hjk876</td>\n",
       "      <td>-1.48765</td>\n",
       "    </tr>\n",
       "    <tr>\n",
       "      <th>2</th>\n",
       "      <td>987bhy</td>\n",
       "      <td>-1.39876</td>\n",
       "    </tr>\n",
       "    <tr>\n",
       "      <th>3</th>\n",
       "      <td>457gbv</td>\n",
       "      <td>0.86543</td>\n",
       "    </tr>\n",
       "    <tr>\n",
       "      <th>4</th>\n",
       "      <td>986tgh</td>\n",
       "      <td>-0.07654</td>\n",
       "    </tr>\n",
       "    <tr>\n",
       "      <th>5</th>\n",
       "      <td>098uio</td>\n",
       "      <td>1.28765</td>\n",
       "    </tr>\n",
       "    <tr>\n",
       "      <th>6</th>\n",
       "      <td>hjk876</td>\n",
       "      <td>-1.48765</td>\n",
       "    </tr>\n",
       "    <tr>\n",
       "      <th>7</th>\n",
       "      <td>987bhy</td>\n",
       "      <td>-1.39876</td>\n",
       "    </tr>\n",
       "    <tr>\n",
       "      <th>8</th>\n",
       "      <td>457gbv</td>\n",
       "      <td>0.86543</td>\n",
       "    </tr>\n",
       "    <tr>\n",
       "      <th>9</th>\n",
       "      <td>986tgh</td>\n",
       "      <td>-0.07654</td>\n",
       "    </tr>\n",
       "  </tbody>\n",
       "</table>\n",
       "</div>"
      ],
      "text/plain": [
       "        Z        C\n",
       "0  098uio  1.28765\n",
       "1  hjk876 -1.48765\n",
       "2  987bhy -1.39876\n",
       "3  457gbv  0.86543\n",
       "4  986tgh -0.07654\n",
       "5  098uio  1.28765\n",
       "6  hjk876 -1.48765\n",
       "7  987bhy -1.39876\n",
       "8  457gbv  0.86543\n",
       "9  986tgh -0.07654"
      ]
     },
     "execution_count": 22,
     "metadata": {},
     "output_type": "execute_result"
    }
   ],
   "source": [
    "df = df.dropna(axis='columns')\n",
    "df"
   ]
  },
  {
   "cell_type": "markdown",
   "metadata": {},
   "source": [
    "### Menghapus (drop) setiap baris yang mengandung missing values"
   ]
  },
  {
   "cell_type": "code",
   "execution_count": 23,
   "metadata": {},
   "outputs": [
    {
     "data": {
      "text/html": [
       "<div>\n",
       "<style scoped>\n",
       "    .dataframe tbody tr th:only-of-type {\n",
       "        vertical-align: middle;\n",
       "    }\n",
       "\n",
       "    .dataframe tbody tr th {\n",
       "        vertical-align: top;\n",
       "    }\n",
       "\n",
       "    .dataframe thead th {\n",
       "        text-align: right;\n",
       "    }\n",
       "</style>\n",
       "<table border=\"1\" class=\"dataframe\">\n",
       "  <thead>\n",
       "    <tr style=\"text-align: right;\">\n",
       "      <th></th>\n",
       "      <th>Z</th>\n",
       "      <th>A</th>\n",
       "      <th>B</th>\n",
       "      <th>C</th>\n",
       "      <th>D</th>\n",
       "    </tr>\n",
       "  </thead>\n",
       "  <tbody>\n",
       "    <tr>\n",
       "      <th>0</th>\n",
       "      <td>098uio</td>\n",
       "      <td>-1.48767</td>\n",
       "      <td>-0.28765</td>\n",
       "      <td>1.28765</td>\n",
       "      <td>-1.578900</td>\n",
       "    </tr>\n",
       "    <tr>\n",
       "      <th>2</th>\n",
       "      <td>987bhy</td>\n",
       "      <td>0.42679</td>\n",
       "      <td>1.07634</td>\n",
       "      <td>-1.39876</td>\n",
       "      <td>0.026789</td>\n",
       "    </tr>\n",
       "    <tr>\n",
       "      <th>4</th>\n",
       "      <td>986tgh</td>\n",
       "      <td>-1.03785</td>\n",
       "      <td>-0.68543</td>\n",
       "      <td>-0.07654</td>\n",
       "      <td>0.199990</td>\n",
       "    </tr>\n",
       "    <tr>\n",
       "      <th>5</th>\n",
       "      <td>098uio</td>\n",
       "      <td>1.28765</td>\n",
       "      <td>1.28765</td>\n",
       "      <td>1.28765</td>\n",
       "      <td>1.287650</td>\n",
       "    </tr>\n",
       "    <tr>\n",
       "      <th>6</th>\n",
       "      <td>hjk876</td>\n",
       "      <td>-1.48765</td>\n",
       "      <td>-1.48765</td>\n",
       "      <td>-1.48765</td>\n",
       "      <td>-1.487650</td>\n",
       "    </tr>\n",
       "    <tr>\n",
       "      <th>7</th>\n",
       "      <td>987bhy</td>\n",
       "      <td>-1.39876</td>\n",
       "      <td>-1.39876</td>\n",
       "      <td>-1.39876</td>\n",
       "      <td>-1.398760</td>\n",
       "    </tr>\n",
       "    <tr>\n",
       "      <th>8</th>\n",
       "      <td>457gbv</td>\n",
       "      <td>0.86543</td>\n",
       "      <td>0.86543</td>\n",
       "      <td>0.86543</td>\n",
       "      <td>0.865430</td>\n",
       "    </tr>\n",
       "    <tr>\n",
       "      <th>9</th>\n",
       "      <td>986tgh</td>\n",
       "      <td>-0.07654</td>\n",
       "      <td>-0.07654</td>\n",
       "      <td>-0.07654</td>\n",
       "      <td>-0.076540</td>\n",
       "    </tr>\n",
       "  </tbody>\n",
       "</table>\n",
       "</div>"
      ],
      "text/plain": [
       "        Z        A        B        C         D\n",
       "0  098uio -1.48767 -0.28765  1.28765 -1.578900\n",
       "2  987bhy  0.42679  1.07634 -1.39876  0.026789\n",
       "4  986tgh -1.03785 -0.68543 -0.07654  0.199990\n",
       "5  098uio  1.28765  1.28765  1.28765  1.287650\n",
       "6  hjk876 -1.48765 -1.48765 -1.48765 -1.487650\n",
       "7  987bhy -1.39876 -1.39876 -1.39876 -1.398760\n",
       "8  457gbv  0.86543  0.86543  0.86543  0.865430\n",
       "9  986tgh -0.07654 -0.07654 -0.07654 -0.076540"
      ]
     },
     "execution_count": 23,
     "metadata": {},
     "output_type": "execute_result"
    }
   ],
   "source": [
    "# mengembalikan kondisi data frame dari salinan\n",
    "df = df_backup.copy(deep=True)\n",
    "df = df.dropna(axis='rows')\n",
    "df"
   ]
  },
  {
   "cell_type": "markdown",
   "metadata": {},
   "source": [
    "### Persentase missing values untuk tiap kolom"
   ]
  },
  {
   "cell_type": "code",
   "execution_count": 24,
   "metadata": {},
   "outputs": [
    {
     "data": {
      "text/plain": [
       "Z    0.0\n",
       "A    0.2\n",
       "B    0.1\n",
       "C    0.0\n",
       "D    0.1\n",
       "dtype: float64"
      ]
     },
     "execution_count": 24,
     "metadata": {},
     "output_type": "execute_result"
    }
   ],
   "source": [
    "df = df_backup.copy(deep=True)\n",
    "df.isna().mean()"
   ]
  },
  {
   "cell_type": "markdown",
   "metadata": {},
   "source": [
    "### Menghapus (drop) setiap kolom yang mengandung missing values berdasarkan threshold (ambang) tertentu"
   ]
  },
  {
   "cell_type": "code",
   "execution_count": 25,
   "metadata": {},
   "outputs": [
    {
     "data": {
      "text/html": [
       "<div>\n",
       "<style scoped>\n",
       "    .dataframe tbody tr th:only-of-type {\n",
       "        vertical-align: middle;\n",
       "    }\n",
       "\n",
       "    .dataframe tbody tr th {\n",
       "        vertical-align: top;\n",
       "    }\n",
       "\n",
       "    .dataframe thead th {\n",
       "        text-align: right;\n",
       "    }\n",
       "</style>\n",
       "<table border=\"1\" class=\"dataframe\">\n",
       "  <thead>\n",
       "    <tr style=\"text-align: right;\">\n",
       "      <th></th>\n",
       "      <th>Z</th>\n",
       "      <th>B</th>\n",
       "      <th>C</th>\n",
       "      <th>D</th>\n",
       "    </tr>\n",
       "  </thead>\n",
       "  <tbody>\n",
       "    <tr>\n",
       "      <th>0</th>\n",
       "      <td>098uio</td>\n",
       "      <td>-0.28765</td>\n",
       "      <td>1.28765</td>\n",
       "      <td>-1.578900</td>\n",
       "    </tr>\n",
       "    <tr>\n",
       "      <th>1</th>\n",
       "      <td>hjk876</td>\n",
       "      <td>NaN</td>\n",
       "      <td>-1.48765</td>\n",
       "      <td>-0.976540</td>\n",
       "    </tr>\n",
       "    <tr>\n",
       "      <th>2</th>\n",
       "      <td>987bhy</td>\n",
       "      <td>1.07634</td>\n",
       "      <td>-1.39876</td>\n",
       "      <td>0.026789</td>\n",
       "    </tr>\n",
       "    <tr>\n",
       "      <th>3</th>\n",
       "      <td>457gbv</td>\n",
       "      <td>1.69873</td>\n",
       "      <td>0.86543</td>\n",
       "      <td>NaN</td>\n",
       "    </tr>\n",
       "    <tr>\n",
       "      <th>4</th>\n",
       "      <td>986tgh</td>\n",
       "      <td>-0.68543</td>\n",
       "      <td>-0.07654</td>\n",
       "      <td>0.199990</td>\n",
       "    </tr>\n",
       "    <tr>\n",
       "      <th>5</th>\n",
       "      <td>098uio</td>\n",
       "      <td>1.28765</td>\n",
       "      <td>1.28765</td>\n",
       "      <td>1.287650</td>\n",
       "    </tr>\n",
       "    <tr>\n",
       "      <th>6</th>\n",
       "      <td>hjk876</td>\n",
       "      <td>-1.48765</td>\n",
       "      <td>-1.48765</td>\n",
       "      <td>-1.487650</td>\n",
       "    </tr>\n",
       "    <tr>\n",
       "      <th>7</th>\n",
       "      <td>987bhy</td>\n",
       "      <td>-1.39876</td>\n",
       "      <td>-1.39876</td>\n",
       "      <td>-1.398760</td>\n",
       "    </tr>\n",
       "    <tr>\n",
       "      <th>8</th>\n",
       "      <td>457gbv</td>\n",
       "      <td>0.86543</td>\n",
       "      <td>0.86543</td>\n",
       "      <td>0.865430</td>\n",
       "    </tr>\n",
       "    <tr>\n",
       "      <th>9</th>\n",
       "      <td>986tgh</td>\n",
       "      <td>-0.07654</td>\n",
       "      <td>-0.07654</td>\n",
       "      <td>-0.076540</td>\n",
       "    </tr>\n",
       "  </tbody>\n",
       "</table>\n",
       "</div>"
      ],
      "text/plain": [
       "        Z        B        C         D\n",
       "0  098uio -0.28765  1.28765 -1.578900\n",
       "1  hjk876      NaN -1.48765 -0.976540\n",
       "2  987bhy  1.07634 -1.39876  0.026789\n",
       "3  457gbv  1.69873  0.86543       NaN\n",
       "4  986tgh -0.68543 -0.07654  0.199990\n",
       "5  098uio  1.28765  1.28765  1.287650\n",
       "6  hjk876 -1.48765 -1.48765 -1.487650\n",
       "7  987bhy -1.39876 -1.39876 -1.398760\n",
       "8  457gbv  0.86543  0.86543  0.865430\n",
       "9  986tgh -0.07654 -0.07654 -0.076540"
      ]
     },
     "execution_count": 25,
     "metadata": {},
     "output_type": "execute_result"
    }
   ],
   "source": [
    "threshold = len(df) * 0.9\n",
    "df = df.dropna(thresh=threshold, axis='columns')\n",
    "df"
   ]
  }
 ],
 "metadata": {
  "kernelspec": {
   "display_name": "myEnv",
   "language": "python",
   "name": "python3"
  },
  "language_info": {
   "codemirror_mode": {
    "name": "ipython",
    "version": 3
   },
   "file_extension": ".py",
   "mimetype": "text/x-python",
   "name": "python",
   "nbconvert_exporter": "python",
   "pygments_lexer": "ipython3",
   "version": "3.12.2"
  }
 },
 "nbformat": 4,
 "nbformat_minor": 2
}
